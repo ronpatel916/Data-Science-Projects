{
 "cells": [
  {
   "cell_type": "markdown",
   "metadata": {},
   "source": [
    "# Mission Statement\n",
    "\n",
    "Hacker News is a site where user-submitted stories are voted and commented upon, similar to Reddit. Hacker News is popular in technology and start-up circles, and posts at the top of Hacker News listings can receive hundreds of thousands of visitors for being at the top.\n",
    "\n",
    "We will explore a dataset of Hacker News posts, but the data set has been reduced by removing all submissions with no comments. \n",
    "\n",
    "Specifically we will explore posts whose titles begin with Ask HN or Show HN.\n",
    "\n",
    "Ask HN posts ask the Hacker News community a specific question.\n",
    "Show HN posts are intended to show the Hacker News community a project, product, or something interesting the user wants to share.\n",
    "\n",
    "We will compare these two types of posts to answer the following:\n",
    "\n",
    "1. Do \"Ask HN\" or \"Show HN\" posts receive more comments on average?\n",
    "2. Do posts created at a certain time receive more comments on average?"
   ]
  },
  {
   "cell_type": "markdown",
   "metadata": {},
   "source": [
    "# Access the Data\n",
    "\n",
    "Our data set is located in a csv file \"hacker_news\". This data set will be read into a list of lists. The first row in the data set is headers, so this row will be removed from the data set."
   ]
  },
  {
   "cell_type": "code",
   "execution_count": 1,
   "metadata": {
    "scrolled": true
   },
   "outputs": [
    {
     "data": {
      "text/plain": [
       "['id', 'title', 'url', 'num_points', 'num_comments', 'author', 'created_at']"
      ]
     },
     "metadata": {},
     "output_type": "display_data"
    },
    {
     "data": {
      "text/plain": [
       "[['12224879',\n",
       "  'Interactive Dynamic Video',\n",
       "  'http://www.interactivedynamicvideo.com/',\n",
       "  '386',\n",
       "  '52',\n",
       "  'ne0phyte',\n",
       "  '8/4/2016 11:52'],\n",
       " ['10975351',\n",
       "  'How to Use Open Source and Shut the Fuck Up at the Same Time',\n",
       "  'http://hueniverse.com/2016/01/26/how-to-use-open-source-and-shut-the-fuck-up-at-the-same-time/',\n",
       "  '39',\n",
       "  '10',\n",
       "  'josep2',\n",
       "  '1/26/2016 19:30'],\n",
       " ['11964716',\n",
       "  \"Florida DJs May Face Felony for April Fools' Water Joke\",\n",
       "  'http://www.thewire.com/entertainment/2013/04/florida-djs-april-fools-water-joke/63798/',\n",
       "  '2',\n",
       "  '1',\n",
       "  'vezycash',\n",
       "  '6/23/2016 22:20'],\n",
       " ['11919867',\n",
       "  'Technology ventures: From Idea to Enterprise',\n",
       "  'https://www.amazon.com/Technology-Ventures-Enterprise-Thomas-Byers/dp/0073523429',\n",
       "  '3',\n",
       "  '1',\n",
       "  'hswarna',\n",
       "  '6/17/2016 0:01'],\n",
       " ['10301696',\n",
       "  'Note by Note: The Making of Steinway L1037 (2007)',\n",
       "  'http://www.nytimes.com/2007/11/07/movies/07stein.html?_r=0',\n",
       "  '8',\n",
       "  '2',\n",
       "  'walterbell',\n",
       "  '9/30/2015 4:12']]"
      ]
     },
     "metadata": {},
     "output_type": "display_data"
    }
   ],
   "source": [
    "from csv import reader\n",
    "\n",
    "opened_file = open(\"hacker_news.csv\",encoding='utf-8')\n",
    "read_file = reader(opened_file)\n",
    "hn = list(read_file)\n",
    "headers = hn[0]\n",
    "hn = hn[1:]\n",
    "\n",
    "display(headers)\n",
    "display(hn[0:5])"
   ]
  },
  {
   "cell_type": "markdown",
   "metadata": {},
   "source": [
    "# Filtering Data: Ask, Show, and Others\n",
    "\n",
    "Now that we have removed the headers and read our data, we are ready to filter our data. We are only concerned with post titles beginning with \"Ask HN\" or \"Show HN\", so we will create new lists of lists containing just the data for those titles\n",
    "\n",
    "To find posts that begin with either \"Ask HN\" or \"Show HN\", we'll use the string method *startswith*. Because capitalization matters, we will use the lower method as well to deal with variance in capitalization."
   ]
  },
  {
   "cell_type": "code",
   "execution_count": 2,
   "metadata": {},
   "outputs": [
    {
     "name": "stdout",
     "output_type": "stream",
     "text": [
      "Number of Ask Posts:  1744\n",
      "Number of Show Posts:  1162\n",
      "Number of Other Posts:  17194\n"
     ]
    }
   ],
   "source": [
    "ask_posts = []\n",
    "show_posts = []\n",
    "other_posts = []\n",
    "\n",
    "for row in hn:\n",
    "    title = row[1]\n",
    "    if title.lower().startswith('ask hn'):\n",
    "        ask_posts.append(row)\n",
    "    elif title.lower().startswith('show hn'):\n",
    "        show_posts.append(row)\n",
    "    else:\n",
    "        other_posts.append(row)\n",
    "        \n",
    "print(\"Number of Ask Posts: \", len(ask_posts))\n",
    "print(\"Number of Show Posts: \", len(show_posts))\n",
    "print(\"Number of Other Posts: \", len(other_posts))"
   ]
  },
  {
   "cell_type": "markdown",
   "metadata": {},
   "source": [
    "# Calculating the Average Number of Comments for Ask HN and Show HN Posts\n",
    "\n",
    "After separating the Ask and Show posts, we will calculate the average number of comments each type of post receives.\n",
    "\n",
    "## Ask Posts"
   ]
  },
  {
   "cell_type": "code",
   "execution_count": 3,
   "metadata": {},
   "outputs": [
    {
     "name": "stdout",
     "output_type": "stream",
     "text": [
      "Average Number of Comments on Ask HN Posts:  14.04 comments/post\n"
     ]
    }
   ],
   "source": [
    "total_ask_comments = 0\n",
    "\n",
    "for post in ask_posts:\n",
    "    num_comments = int(post[4])\n",
    "    total_ask_comments += num_comments\n",
    "\n",
    "avg_ask_comments = total_ask_comments/len(ask_posts)\n",
    "\n",
    "print(\"Average Number of Comments on Ask HN Posts: \",\n",
    "      round(avg_ask_comments,2), \"comments/post\")\n",
    "    "
   ]
  },
  {
   "cell_type": "markdown",
   "metadata": {},
   "source": [
    "## Show Posts"
   ]
  },
  {
   "cell_type": "code",
   "execution_count": 4,
   "metadata": {},
   "outputs": [
    {
     "name": "stdout",
     "output_type": "stream",
     "text": [
      "Average Number of Comments on Show HN Posts:  10.32 comments/post\n"
     ]
    }
   ],
   "source": [
    "total_show_comments = 0\n",
    "\n",
    "for post in show_posts:\n",
    "    num_comments = int(post[4])\n",
    "    total_show_comments += num_comments\n",
    "    \n",
    "avg_show_comments = total_show_comments/len(show_posts)\n",
    "\n",
    "print(\"Average Number of Comments on Show HN Posts: \",\n",
    "     round(avg_show_comments,2), \"comments/post\")"
   ]
  },
  {
   "cell_type": "markdown",
   "metadata": {},
   "source": [
    "Our analysis shows that on average, *\"Ask HN\"* posts receive 14.04 comments/post, while *\"Show HN\"* posts receive 10.32 comments/post.\n",
    "\n",
    "*\"Ask HN\"* posts receive more comments on average.\n",
    "\n",
    "Since *\"Ask HN\"* posts receive more comments, we will focus our remaining analysis just on these posts.\n",
    "\n",
    "# Amount of Ask Posts and Comments by Hour Created\n",
    "\n",
    "Next, we'll determine if there is a certain time period that a question can be posted to maximize the amount of comments an ask post receives. First, the amount of ask posts created in each hour of the day will be calculated, along with the amount of comments received. Then we will calculate the average number of comments ask posts receive by hour created. "
   ]
  },
  {
   "cell_type": "code",
   "execution_count": 5,
   "metadata": {},
   "outputs": [
    {
     "data": {
      "text/plain": [
       "[['09', 5.5777777777777775],\n",
       " ['13', 14.741176470588234],\n",
       " ['10', 13.440677966101696],\n",
       " ['14', 13.233644859813085],\n",
       " ['16', 16.796296296296298],\n",
       " ['23', 7.985294117647059],\n",
       " ['12', 9.41095890410959],\n",
       " ['17', 11.46],\n",
       " ['15', 38.5948275862069],\n",
       " ['21', 16.009174311926607],\n",
       " ['20', 21.525],\n",
       " ['02', 23.810344827586206],\n",
       " ['18', 13.20183486238532],\n",
       " ['03', 7.796296296296297],\n",
       " ['05', 10.08695652173913],\n",
       " ['19', 10.8],\n",
       " ['01', 11.383333333333333],\n",
       " ['22', 6.746478873239437],\n",
       " ['08', 10.25],\n",
       " ['04', 7.170212765957447],\n",
       " ['00', 8.127272727272727],\n",
       " ['06', 9.022727272727273],\n",
       " ['07', 7.852941176470588],\n",
       " ['11', 11.051724137931034]]"
      ]
     },
     "execution_count": 5,
     "metadata": {},
     "output_type": "execute_result"
    }
   ],
   "source": [
    "import datetime as dt\n",
    "\n",
    "result_list = []\n",
    "\n",
    "for post in ask_posts:\n",
    "    created_at = post[6]\n",
    "    num_comments = int(post[4])\n",
    "    time_comment = [created_at,num_comments]\n",
    "    result_list.append(time_comment)\n",
    "    \n",
    "counts_by_hour = {}\n",
    "comments_by_hour = {}\n",
    "\n",
    "for row in result_list:\n",
    "    created_at_str = row[0]\n",
    "    comments = row[1]\n",
    "    created_at_dt = dt.datetime.strptime(created_at_str,\"%m/%d/%Y %H:%M\")\n",
    "    created_at_hour = created_at_dt.strftime(\"%H\")\n",
    "    if created_at_hour not in counts_by_hour:\n",
    "        counts_by_hour[created_at_hour] = 1\n",
    "        comments_by_hour[created_at_hour] = comments\n",
    "    elif created_at_hour in counts_by_hour:\n",
    "        counts_by_hour[created_at_hour] += 1\n",
    "        comments_by_hour[created_at_hour] += comments\n",
    "    \n",
    "avg_by_hour = []\n",
    "\n",
    "for hour in comments_by_hour:\n",
    "    avg_by_hour.append([hour,comments_by_hour[hour]/counts_by_hour[hour]])\n",
    "    \n",
    "avg_by_hour"
   ]
  },
  {
   "cell_type": "markdown",
   "metadata": {},
   "source": [
    "# Sorting the Results\n",
    "\n",
    "Now that we have calculated the average number of comments per post by hour, we will sort the results in descending order to find the top 5 best hours to write Ask HN posts."
   ]
  },
  {
   "cell_type": "code",
   "execution_count": 6,
   "metadata": {},
   "outputs": [
    {
     "data": {
      "text/plain": [
       "[[5.5777777777777775, '09'],\n",
       " [14.741176470588234, '13'],\n",
       " [13.440677966101696, '10'],\n",
       " [13.233644859813085, '14'],\n",
       " [16.796296296296298, '16'],\n",
       " [7.985294117647059, '23'],\n",
       " [9.41095890410959, '12'],\n",
       " [11.46, '17'],\n",
       " [38.5948275862069, '15'],\n",
       " [16.009174311926607, '21'],\n",
       " [21.525, '20'],\n",
       " [23.810344827586206, '02'],\n",
       " [13.20183486238532, '18'],\n",
       " [7.796296296296297, '03'],\n",
       " [10.08695652173913, '05'],\n",
       " [10.8, '19'],\n",
       " [11.383333333333333, '01'],\n",
       " [6.746478873239437, '22'],\n",
       " [10.25, '08'],\n",
       " [7.170212765957447, '04'],\n",
       " [8.127272727272727, '00'],\n",
       " [9.022727272727273, '06'],\n",
       " [7.852941176470588, '07'],\n",
       " [11.051724137931034, '11']]"
      ]
     },
     "execution_count": 6,
     "metadata": {},
     "output_type": "execute_result"
    }
   ],
   "source": [
    "swap_avg_by_hour = []\n",
    "\n",
    "for row in avg_by_hour:\n",
    "    swap_avg_by_hour.append([row[1],row[0]])\n",
    "    \n",
    "swap_avg_by_hour"
   ]
  },
  {
   "cell_type": "code",
   "execution_count": 7,
   "metadata": {},
   "outputs": [
    {
     "name": "stdout",
     "output_type": "stream",
     "text": [
      "Top 5 Hours for Ask Posts Comments\n",
      "15:00: 38.59 average comments per post\n",
      "02:00: 23.81 average comments per post\n",
      "20:00: 21.52 average comments per post\n",
      "16:00: 16.80 average comments per post\n",
      "21:00: 16.01 average comments per post\n"
     ]
    }
   ],
   "source": [
    "sorted_swap = sorted(swap_avg_by_hour,reverse = True)\n",
    "\n",
    "print(\"Top 5 Hours for Ask Posts Comments\")\n",
    "for avg,hour in sorted_swap[:5]:\n",
    "    print(\"{hr}: {average:.2f} average comments per post\".format(hr = dt.datetime.strptime(hour, '%H').strftime(\"%H:%M\"),average = avg))"
   ]
  },
  {
   "cell_type": "markdown",
   "metadata": {},
   "source": [
    "According to the data set documentation, the timezone used is EST (Eastern Standard Time). \n",
    "\n",
    "The hour that receives the most comments per post on average is at 3:00 PM EST, with 38.59 average comments per post. There is roughly a 60% increase in comments from the second best hour to receive comments and the best hour. "
   ]
  },
  {
   "cell_type": "code",
   "execution_count": 8,
   "metadata": {},
   "outputs": [
    {
     "name": "stdout",
     "output_type": "stream",
     "text": [
      "Bottom 5 Hours for Ask Posts Comments\n",
      "07:00: 7.85 average comments per post\n",
      "03:00: 7.80 average comments per post\n",
      "04:00: 7.17 average comments per post\n",
      "22:00: 6.75 average comments per post\n",
      "09:00: 5.58 average comments per post\n"
     ]
    }
   ],
   "source": [
    "print(\"Bottom 5 Hours for Ask Posts Comments\")\n",
    "for avg,hour in sorted_swap[-5:]:\n",
    "    print(\"{hr}: {average:.2f} average comments per post\".format(hr = dt.datetime.strptime(hour, '%H').strftime(\"%H:%M\"),average = avg))"
   ]
  },
  {
   "cell_type": "markdown",
   "metadata": {},
   "source": [
    "The worst time to create a post using \"Ask HN\" is in the morning at 9:00 AM EST, receiving only 5.58 average comments per post.\n",
    "\n",
    "# Calculating Average Number of Points per Show or Ask Post\n",
    "\n",
    "We previously had calculated the number of comments a Show or Ask post received. Now we will explore the average points a Show or Ask Post receives. Points are the difference between upvotes and downvotes. The higher this value, the more positive sentiment there is for the post and is a good proxy for traffic to the post. \n",
    "\n",
    "We will use the lists ask_posts and show_posts for this analysis as well.\n",
    "\n",
    "## Ask Posts"
   ]
  },
  {
   "cell_type": "code",
   "execution_count": 9,
   "metadata": {},
   "outputs": [
    {
     "name": "stdout",
     "output_type": "stream",
     "text": [
      "Average Number of Points on Ask HN Posts:  15.06 points/post\n"
     ]
    }
   ],
   "source": [
    "total_ask_points = 0\n",
    "\n",
    "for post in ask_posts:\n",
    "    num_points = int(post[3])\n",
    "    total_ask_points += num_points\n",
    "\n",
    "avg_ask_points = total_ask_points/len(ask_posts)\n",
    "\n",
    "print(\"Average Number of Points on Ask HN Posts: \",\n",
    "      round(avg_ask_points,2), \"points/post\")"
   ]
  },
  {
   "cell_type": "markdown",
   "metadata": {},
   "source": [
    "## Show Posts"
   ]
  },
  {
   "cell_type": "code",
   "execution_count": 10,
   "metadata": {},
   "outputs": [
    {
     "name": "stdout",
     "output_type": "stream",
     "text": [
      "Average Number of Points on Show HN Posts:  27.56 points/post\n"
     ]
    }
   ],
   "source": [
    "total_show_points = 0\n",
    "\n",
    "for post in show_posts:\n",
    "    num_points = int(post[3])\n",
    "    total_show_points += num_points\n",
    "\n",
    "avg_show_points = total_show_points/len(show_posts)\n",
    "\n",
    "print(\"Average Number of Points on Show HN Posts: \",\n",
    "      round(avg_show_points,2), \"points/post\")"
   ]
  },
  {
   "cell_type": "markdown",
   "metadata": {},
   "source": [
    "Show posts on average receive 27.56 points/post, while Ask posts receive an average of 15.06 points.\n",
    "\n",
    "As opposed to analyzing posts by number of comments, using number of points per post shows that *\"Show HN\"* posts receive more points than *\"Ask HN\"* posts.\n",
    "\n",
    "Using number of points highlights a different quality of the posts than number of comments does. Number of comments show how many users may be actively engaging with the post. On the other hand, number of points shows the overall sentiment towards the post. Show posts receiving a higher average number of points means that people responded more postively to these posts than to Ask Posts. However, this may not explain the traffic the post received. If the post was polarizing in sentiment (many people  felt positively about the post and many people felt negatively about the post), the post may receive a points value close to zero even if it was a highly trafficked post. \n",
    "\n",
    "We will continue our analysis using *\"Show HN\"* posts because this type of post received more points/post on average.\n",
    "\n",
    "# Amount of Show Posts by Hour Created and Number of Points\n",
    "\n",
    "Next, we'll determine if there is a certain time period that a question can be posted to maximize the amount of points a show post receives. First, the amount of show posts created in each hour of the day will be calculated, along with the amount of points received. Then we will calculate the average number of points ask posts receive by hour created. "
   ]
  },
  {
   "cell_type": "code",
   "execution_count": 11,
   "metadata": {},
   "outputs": [
    {
     "name": "stdout",
     "output_type": "stream",
     "text": [
      "Top 5 Hours for Show Posts Points\n",
      "23:00: 42.39 average points per post\n",
      "12:00: 41.69 average points per post\n",
      "22:00: 40.35 average points per post\n",
      "00:00: 37.84 average points per post\n",
      "18:00: 36.31 average points per post\n"
     ]
    }
   ],
   "source": [
    "points_result_list = []\n",
    "\n",
    "for post in show_posts:\n",
    "    created_at = post[6]\n",
    "    num_points = int(post[3])\n",
    "    time_point = [created_at,num_points]\n",
    "    points_result_list.append(time_point)\n",
    "    \n",
    "counts_by_hour = {}\n",
    "points_by_hour = {}\n",
    "\n",
    "for row in points_result_list:\n",
    "    created_at_str = row[0]\n",
    "    points = row[1]\n",
    "    created_at_dt = dt.datetime.strptime(created_at_str,\"%m/%d/%Y %H:%M\")\n",
    "    created_at_hour = created_at_dt.strftime(\"%H\")\n",
    "    if created_at_hour not in counts_by_hour:\n",
    "        counts_by_hour[created_at_hour] = 1\n",
    "        points_by_hour[created_at_hour] = points\n",
    "    elif created_at_hour in counts_by_hour:\n",
    "        counts_by_hour[created_at_hour] += 1\n",
    "        points_by_hour[created_at_hour] += points\n",
    "    \n",
    "points_avg_by_hour = []\n",
    "\n",
    "for hour in points_by_hour:\n",
    "    points_avg_by_hour.append([hour,points_by_hour[hour]/counts_by_hour[hour]])\n",
    "    \n",
    "points_swap_avg_by_hour = []\n",
    "\n",
    "for row in points_avg_by_hour:\n",
    "    points_swap_avg_by_hour.append([row[1],row[0]])\n",
    "    \n",
    "points_sorted_swap = sorted(points_swap_avg_by_hour,reverse = True)\n",
    "\n",
    "print(\"Top 5 Hours for Show Posts Points\")\n",
    "for avg,hour in points_sorted_swap[:5]:\n",
    "    print(\"{hr}: {average:.2f} average points per post\".format(hr = dt.datetime.strptime(hour, '%H').strftime(\"%H:%M\"),average = avg))"
   ]
  },
  {
   "cell_type": "markdown",
   "metadata": {},
   "source": [
    "The hour that receives the most average points per post is at 11:00 PM EST-12:00 AM EST at 42.39 points/post. It is important to note that at 12:00 PM EST - 1:00 PM EST posts get 41.69 points/post on average and at 10:00 PM EST - 11:00 PM EST posts get 40.35 average points/post. "
   ]
  },
  {
   "cell_type": "code",
   "execution_count": 12,
   "metadata": {},
   "outputs": [
    {
     "name": "stdout",
     "output_type": "stream",
     "text": [
      "Bottom 5 Hours for Show Posts Points\n",
      "21:00: 18.43 average points per post\n",
      "08:00: 15.26 average points per post\n",
      "04:00: 14.85 average points per post\n",
      "02:00: 11.33 average points per post\n",
      "05:00: 5.47 average points per post\n"
     ]
    }
   ],
   "source": [
    "print(\"Bottom 5 Hours for Show Posts Points\")\n",
    "for avg,hour in points_sorted_swap[-5:]:\n",
    "    print(\"{hr}: {average:.2f} average points per post\".format(hr = dt.datetime.strptime(hour, '%H').strftime(\"%H:%M\"),average = avg))"
   ]
  },
  {
   "cell_type": "markdown",
   "metadata": {},
   "source": [
    "The worst time to write a post if you are looking to maximize your points is at 5:00 AM EST - 6:00 AM EST. Posts at this hour only receive 5.47 average points per post.\n",
    "\n",
    "# Comparison of Number of Comments and Number of Points by Hour\n",
    "\n",
    "We will take a look at the average number of comments and number of points by hour for Show HN posts."
   ]
  },
  {
   "cell_type": "code",
   "execution_count": 13,
   "metadata": {},
   "outputs": [],
   "source": [
    "result_list = []\n",
    "\n",
    "for post in show_posts:\n",
    "    created_at = post[6]\n",
    "    num_comments = int(post[4])\n",
    "    time_comment = [created_at,num_comments]\n",
    "    result_list.append(time_comment)\n",
    "    \n",
    "counts_by_hour = {}\n",
    "comments_by_hour = {}\n",
    "\n",
    "for row in result_list:\n",
    "    created_at_str = row[0]\n",
    "    comments = row[1]\n",
    "    created_at_dt = dt.datetime.strptime(created_at_str,\"%m/%d/%Y %H:%M\")\n",
    "    created_at_hour = created_at_dt.strftime(\"%H\")\n",
    "    if created_at_hour not in counts_by_hour:\n",
    "        counts_by_hour[created_at_hour] = 1\n",
    "        comments_by_hour[created_at_hour] = comments\n",
    "    elif created_at_hour in counts_by_hour:\n",
    "        counts_by_hour[created_at_hour] += 1\n",
    "        comments_by_hour[created_at_hour] += comments\n",
    "    \n",
    "avg_by_hour = []\n",
    "\n",
    "for hour in comments_by_hour:\n",
    "    avg_by_hour.append([hour,comments_by_hour[hour]/counts_by_hour[hour]])\n",
    "    \n",
    "swap_avg_by_hour = []\n",
    "\n",
    "for row in avg_by_hour:\n",
    "    swap_avg_by_hour.append([row[1],row[0]])\n",
    "    \n",
    "sorted_swap = sorted(swap_avg_by_hour,reverse = True)"
   ]
  },
  {
   "cell_type": "markdown",
   "metadata": {},
   "source": [
    "### Show HN Number of Comments per Hour"
   ]
  },
  {
   "cell_type": "code",
   "execution_count": 14,
   "metadata": {},
   "outputs": [
    {
     "name": "stdout",
     "output_type": "stream",
     "text": [
      "Top 5 Hours for Show Posts Comments\n",
      "18:00: 15.77 average comments per post\n",
      "00:00: 15.71 average comments per post\n",
      "14:00: 13.44 average comments per post\n",
      "23:00: 12.42 average comments per post\n",
      "22:00: 12.39 average comments per post\n"
     ]
    }
   ],
   "source": [
    "print(\"Top 5 Hours for Show Posts Comments\")\n",
    "for avg,hour in sorted_swap[:5]:\n",
    "    print(\"{hr}: {average:.2f} average comments per post\".format(hr = dt.datetime.strptime(hour, '%H').strftime(\"%H:%M\"),average = avg))"
   ]
  },
  {
   "cell_type": "markdown",
   "metadata": {},
   "source": [
    "### Show HN Number of Points per Hour"
   ]
  },
  {
   "cell_type": "code",
   "execution_count": 15,
   "metadata": {},
   "outputs": [
    {
     "name": "stdout",
     "output_type": "stream",
     "text": [
      "Top 5 Hours for Show Posts Points\n",
      "23:00: 42.39 average points per post\n",
      "12:00: 41.69 average points per post\n",
      "22:00: 40.35 average points per post\n",
      "00:00: 37.84 average points per post\n",
      "18:00: 36.31 average points per post\n"
     ]
    }
   ],
   "source": [
    "print(\"Top 5 Hours for Show Posts Points\")\n",
    "for avg,hour in points_sorted_swap[:5]:\n",
    "    print(\"{hr}: {average:.2f} average points per post\".format(hr = dt.datetime.strptime(hour, '%H').strftime(\"%H:%M\"),average = avg))"
   ]
  },
  {
   "cell_type": "markdown",
   "metadata": {},
   "source": [
    "Examining the top 5 hours for Comments and Points, we find that 6:00 PM EST - 7:00 PM EST, 10:00 PM EST - 1:00 AM EST (3 separate hours) are all found in both top 5 tables.\n",
    "\n",
    "If you care more about points, create your Show HN post between 11:00 PM EST - 12:00 AM EST. If you care more about comments, create your Show HN post between 6:00 PM EST - 7:00 PM EST. \n",
    "\n",
    "In general, if you create your Show HN post between the hours listed above, they have a much better chance of receiving more attention, regardless of which metric you are measuring your post performance by (comments or points.)\n",
    "\n",
    "# Conclusion\n",
    "\n",
    "In this project, we examined the Hacker News data set to determine which type of post and time asked gets the most comments per post on average.\n",
    "\n",
    "Based on our analysis, *\"Ask HN\"* posts receive more comments on average than *\"Show HN\"* posts on Hacker News. *\"Ask HN\"* posts were then analyzed to determine the best time to create a post to generate the most comments per post on average (by hour). Based on my analysis, The best time to create a post is between 3:00 PM EST - 4:00 PM EST. \n",
    "\n",
    "Additionally, we examined the data set to determine which type of post and at what time gets the highest number of points per post on average. Number of points shows the overall sentiment towards the post.\n",
    "\n",
    "*\"Show HN\"* posts received a higher number of points on average compared to *\"Ask HN\"* posts, indicating these posts receive more positive sentiment. *\"Show HN\"* posts were then analyzed to determine the best time to create a post to receive the highest number of points per post on average. The hour that receives the most average points per post is at 11:00 PM EST-12:00 AM EST at 42.39 points/post. \n",
    "\n",
    "When comparing the best hours to receive the highest number of comments to the best hours to receive the highest number of points for *\"Show HN\"* posts, we found that for both metrics the same 4 out of 5 hours were found in the Top 5 hours.\n",
    "\n"
   ]
  }
 ],
 "metadata": {
  "kernelspec": {
   "display_name": "Python 3",
   "language": "python",
   "name": "python3"
  },
  "language_info": {
   "codemirror_mode": {
    "name": "ipython",
    "version": 3
   },
   "file_extension": ".py",
   "mimetype": "text/x-python",
   "name": "python",
   "nbconvert_exporter": "python",
   "pygments_lexer": "ipython3",
   "version": "3.7.1"
  }
 },
 "nbformat": 4,
 "nbformat_minor": 2
}
